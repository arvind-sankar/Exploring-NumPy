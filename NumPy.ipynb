{
 "cells": [
  {
   "cell_type": "code",
   "execution_count": 1,
   "metadata": {},
   "outputs": [],
   "source": [
    "import numpy as np\n",
    "import matplotlib.pyplot as plt"
   ]
  },
  {
   "cell_type": "code",
   "execution_count": 2,
   "metadata": {},
   "outputs": [],
   "source": [
    "# NumPy's main object is the homogenous multidimensional array. It is a table of elements (usually numbers), all of the same\n",
    "# type, indexed by a tuple of positive integers.\n",
    "# In NumPy, the dimensions are called axes. For example, the coordinates of a point in 3D space [1, 2, 1] has one axis. \n",
    "# That axis has 3 elements in it, so we say it has a length of 3. \n",
    "# NumPy’s array class is called ndarray."
   ]
  },
  {
   "cell_type": "code",
   "execution_count": 12,
   "metadata": {},
   "outputs": [
    {
     "name": "stdout",
     "output_type": "stream",
     "text": [
      "2\n",
      "(2, 4)\n",
      "8\n",
      "int32\n",
      "4\n"
     ]
    }
   ],
   "source": [
    "# Basic Attributes of ndarray object\n",
    "a = np.array([[1,2,3,4],[5,6,7,8]])\n",
    "\n",
    "# ndim - Number of axes/dimensions\n",
    "print(a.ndim)\n",
    "\n",
    "# shape - Returns axes and length of axes (number of rows and columns) as a tuple of integers\n",
    "print(a.shape)\n",
    "\n",
    "# size - Total Number of elements in the array\n",
    "print(a.size)\n",
    "\n",
    "# dtype - Data Type of the elements\n",
    "print(a.dtype)\n",
    "\n",
    "# itemsize - size in bytes of each element in array\n",
    "print(a.itemsize)"
   ]
  },
  {
   "cell_type": "code",
   "execution_count": 21,
   "metadata": {},
   "outputs": [
    {
     "name": "stdout",
     "output_type": "stream",
     "text": [
      "[1 2 3 4]\n",
      "[[1 2 3 4]\n",
      " [5 6 7 8]]\n",
      "[[1.+0.j 2.+0.j]\n",
      " [3.+0.j 4.+0.j]]\n",
      "[[0. 0. 0. 0.]\n",
      " [0. 0. 0. 0.]\n",
      " [0. 0. 0. 0.]]\n",
      "[[1. 1. 1. 1.]\n",
      " [1. 1. 1. 1.]\n",
      " [1. 1. 1. 1.]]\n",
      "[[1. 1. 1. 1.]\n",
      " [1. 1. 1. 1.]\n",
      " [1. 1. 1. 1.]]\n",
      "[[1. 0. 0. 0.]\n",
      " [0. 1. 0. 0.]\n",
      " [0. 0. 1. 0.]]\n"
     ]
    }
   ],
   "source": [
    "# Array Creation\n",
    "# 1-d array from a single list\n",
    "b = np.array([1,2,3,4])\n",
    "print(b)\n",
    "\n",
    "# n-dimensional array from a sequence of lists\n",
    "c = np.array([[1,2,3,4],[5,6,7,8]])\n",
    "print(c)\n",
    "\n",
    "# Arrays with complex numbers\n",
    "d = np.array([[1,2],[3,4]],dtype = complex)\n",
    "print(d)\n",
    "\n",
    "# n-dimensional arrays with standard placeholders\n",
    "print(np.zeros((3,4)))\n",
    "print(np.ones((3,4)))\n",
    "print(np.empty((3,4))) # Junk values\n",
    "print(np.eye(3,4))"
   ]
  },
  {
   "cell_type": "code",
   "execution_count": 36,
   "metadata": {},
   "outputs": [
    {
     "name": "stdout",
     "output_type": "stream",
     "text": [
      "[0 1 2 3 4 5 6 7 8 9]\n",
      "[10 11 12 13 14 15 16 17 18 19]\n",
      "[10 12 14 16 18 20]\n",
      "[0.  0.1 0.2 0.3 0.4 0.5 0.6 0.7 0.8 0.9]\n",
      "[ 1.  2.  3.  4.  5.  6.  7.  8.  9. 10.]\n",
      "[ 1.          1.29154967  1.66810054  2.15443469  2.7825594   3.59381366\n",
      "  4.64158883  5.9948425   7.74263683 10.        ]\n"
     ]
    },
    {
     "data": {
      "text/plain": [
       "[<matplotlib.lines.Line2D at 0x1851943cb00>]"
      ]
     },
     "execution_count": 36,
     "metadata": {},
     "output_type": "execute_result"
    },
    {
     "data": {
      "image/png": "[encoded data removed]",
      "text/plain": [
       "<Figure size 432x288 with 1 Axes>"
      ]
     },
     "metadata": {
      "needs_background": "light"
     },
     "output_type": "display_data"
    }
   ],
   "source": [
    "# Generate a sequence of numbers\n",
    "print(np.arange(10))\n",
    "print(np.arange(10,20))\n",
    "print(np.arange(10,21,2))\n",
    "print(np.arange(0,1,0.1))\n",
    "\n",
    "## linspace - generate evenly spaced numbers over a specified interval (default number of samples is 50)\n",
    "print(np.linspace(1,10,num = 10))\n",
    "## geomspace - generate evenly spaced numbers on a log scale over a specified interval (default number of samples is 50)\n",
    "print(np.geomspace(1,10,10))\n",
    "plt.plot(np.arange(1,11),np.geomspace(1,10,10))"
   ]
  },
  {
   "cell_type": "code",
   "execution_count": 65,
   "metadata": {},
   "outputs": [
    {
     "name": "stdout",
     "output_type": "stream",
     "text": [
      "[4 9 4 4 7]\n",
      "[3 2 4 2 4]\n",
      "[[0.80749762 0.20252423 0.31407291]\n",
      " [0.08408017 0.90839866 0.0611235 ]]\n",
      "[[-0.90878526 -0.60875519  1.10895734]\n",
      " [-0.44649228 -1.17635822 -1.51772529]]\n",
      "[6 8 7 6]\n",
      "[18 11  9 23 15]\n",
      "[0.92707025 0.79232143 0.99614775]\n",
      "[4.96643191 6.44311082 2.40949157 4.08460732]\n",
      "[3.90169587 2.57134497 3.17516875 2.6648339 ]\n",
      "[-0.21448202 -1.35854829 -0.06912609 -0.28530531]\n"
     ]
    }
   ],
   "source": [
    "# Generate random numbers and sequences\n",
    "## Generate an array of random integers between two numbers\n",
    "print(np.random.randint(low = 1, high = 10, size = 5))\n",
    "## Generate a random sample from the given array (replacement and probabilities as additional arguments)\n",
    "print(np.random.choice(b, size = 5, replace = True, p = [0.1,0.4,0.2,0.3]))\n",
    "## Generate an array of random numbers with given shape (default is 1X1) between 0 and 1 from a uniform distribution \n",
    "print(np.random.rand(2,3))\n",
    "## Generate an array of random numbers with given shape (default is 1X1) from a standard normal distribution \n",
    "print(np.random.randn(2,3))\n",
    "\n",
    "## Generate random numbers from statistical distributions\n",
    "print(np.random.binomial(n = 10,p = 0.7,size = 4))\n",
    "print(np.random.poisson(lam = 15,size = 5))  # lam = lambda\n",
    "print(np.random.exponential(scale = 2,size = 3))  # scale = 1/lambda\n",
    "print(np.random.normal(loc = 5,scale = 2,size = 4))  # loc = center(mean), scale = spread(sd)\n",
    "print(np.random.uniform(low = 2,high = 5,size = 4))\n",
    "print(np.random.standard_t(df = 10,size = 4))"
   ]
  },
  {
   "cell_type": "code",
   "execution_count": 76,
   "metadata": {},
   "outputs": [
    {
     "name": "stdout",
     "output_type": "stream",
     "text": [
      "[1 2 4 3]\n",
      "[0 7 8 9 2 5 1 4 3 6]\n",
      "[3 4 1 2]\n",
      "[1 2 4 3]\n",
      "[[5 6 7 8]\n",
      " [1 2 3 4]]\n"
     ]
    }
   ],
   "source": [
    "# Shuffle array\n",
    "np.random.shuffle(b)\n",
    "print(b)\n",
    "print(np.random.permutation(10))  # Generates permutation from np.arange(10)\n",
    "print(np.random.permutation(b))  # Shuffles but not inplace like shuffle\n",
    "print(b)\n",
    "print(np.random.permutation(a))"
   ]
  },
  {
   "cell_type": "code",
   "execution_count": 90,
   "metadata": {},
   "outputs": [
    {
     "name": "stdout",
     "output_type": "stream",
     "text": [
      "<mtrand.RandomState object at 0x0000018519477E10>\n",
      "[3 3 7 2 4]\n",
      "[7 2 1 2 1]\n",
      "[5 5 6 9 6]\n"
     ]
    }
   ],
   "source": [
    "# Random Generator and Seed\n",
    "seed = 123\n",
    "print(np.random.RandomState(seed))\n",
    "np.random.seed(seed)\n",
    "print(np.random.randint(1,10,5))\n",
    "print(np.random.randint(1,10,5))\n",
    "np.random.seed()  # Cancels the effect of seed \n",
    "print(np.random.randint(1,10,5))"
   ]
  },
  {
   "cell_type": "code",
   "execution_count": 102,
   "metadata": {},
   "outputs": [
    {
     "name": "stdout",
     "output_type": "stream",
     "text": [
      "[[9 2 4]\n",
      " [1 4 8]\n",
      " [4 9 1]]\n",
      "[[5 7 5]\n",
      " [8 7 3]\n",
      " [1 1 6]]\n",
      "[[ 4 -5 -1]\n",
      " [-7 -3  5]\n",
      " [ 3  8 -5]]\n",
      "[[45 14 20]\n",
      " [ 8 28 24]\n",
      " [ 4  9  6]]\n",
      "[[81  4 16]\n",
      " [ 1 16 64]\n",
      " [16 81  1]]\n",
      "[[65 81 75]\n",
      " [45 43 65]\n",
      " [93 92 53]]\n",
      "[[65 81 75]\n",
      " [45 43 65]\n",
      " [93 92 53]]\n",
      "[[65 81 75]\n",
      " [45 43 65]\n",
      " [93 92 53]]\n",
      "[[72 83 81]\n",
      " [91 71 91]\n",
      " [34 60 18]]\n",
      "[[-18 -25  53]\n",
      " [-44  61 -25]\n",
      " [ 53 -23  -5]]\n",
      "42\n",
      "[14 15 13]\n",
      "[15 13 14]\n",
      "[ 9 11 15 16 20 28 32 41 42]\n",
      "[[ 9 11 15]\n",
      " [ 1  5 13]\n",
      " [ 4 13 14]]\n"
     ]
    }
   ],
   "source": [
    "# Arithmetic operations in ndarrays\n",
    "x = np.random.randint(1,10,(3,3))\n",
    "y = np.random.randint(1,10,(3,3))\n",
    "print(x)\n",
    "print(y)\n",
    "print(x-y)\n",
    "print(x*y)  # Element wise multiplication of matrices\n",
    "print(x**2)  # Element wise square of matrix\n",
    "print(x@y)  # Matrix Dot product\n",
    "print(np.dot(x,y)) # Matrix Dot product\n",
    "print(x.dot(y)) # Matrix Dot product - XY\n",
    "print(y.dot(x)) # Matrix Dot product - YX \n",
    "print(np.cross(x,y)) # Matrix Cross Product\n",
    "\n",
    "print(x.sum())  # Sum of matrix\n",
    "print(x.sum(axis=0))  # Column sum\n",
    "print(x.sum(axis=1))  # Row sum\n",
    "print(x.cumsum())\n",
    "print(x.cumsum(axis=1))  # Row cumulative sum"
   ]
  },
  {
   "cell_type": "code",
   "execution_count": 124,
   "metadata": {},
   "outputs": [
    {
     "name": "stdout",
     "output_type": "stream",
     "text": [
      "[[4]]\n",
      "[[1 4 8]\n",
      " [4 9 1]]\n",
      "[[2 4]\n",
      " [4 8]\n",
      " [9 1]]\n",
      "[1 4 8]\n",
      "[4 9 1]\n",
      "[5 7 5]\n",
      "[8 7 3]\n",
      "[1 1 6]\n",
      "5\n",
      "7\n",
      "5\n",
      "8\n",
      "7\n",
      "3\n",
      "1\n",
      "1\n",
      "6\n",
      "5\n",
      "7\n",
      "5\n",
      "8\n",
      "7\n",
      "3\n",
      "1\n",
      "1\n",
      "6\n",
      "(0, 0) 5\n",
      "(0, 1) 7\n",
      "(0, 2) 5\n",
      "(1, 0) 8\n",
      "(1, 1) 7\n",
      "(1, 2) 3\n",
      "(2, 0) 1\n",
      "(2, 1) 1\n",
      "(2, 2) 6\n"
     ]
    }
   ],
   "source": [
    "# Indexing and Iterating\n",
    "print(x[1:2,1:2])\n",
    "print(x[1:3])\n",
    "print(x[:,1:3])\n",
    "print(x[1,...])\n",
    "print(x[2])\n",
    "\n",
    "## Iterating over ndarray\n",
    "for row in y:               #Iterates over rows\n",
    "    print(row)\n",
    "\n",
    "for row in y:\n",
    "    for elem in row:        # To iterate over all elements\n",
    "        print(elem)\n",
    "        \n",
    "## A better way to iterate over all elements is to flatten the ndarray\n",
    "for elem in y.flat:\n",
    "    print(elem)\n",
    "    \n",
    "## Enumeration of ndarray to access indices and elements\n",
    "for ix,elem in np.ndenumerate(y):\n",
    "    print(ix,elem)"
   ]
  },
  {
   "cell_type": "code",
   "execution_count": 139,
   "metadata": {},
   "outputs": [
    {
     "name": "stdout",
     "output_type": "stream",
     "text": [
      "(3, 4)\n",
      "[7 5 1 9 8 1 7 2 8 7 4 2]\n",
      "[[7 5]\n",
      " [1 9]\n",
      " [8 1]\n",
      " [7 2]\n",
      " [8 7]\n",
      " [4 2]]\n",
      "[[7 5 1 9 8 1]\n",
      " [7 2 8 7 4 2]]\n",
      "[[7 5 1]\n",
      " [9 8 1]\n",
      " [7 2 8]\n",
      " [7 4 2]]\n",
      "[[7 7]\n",
      " [5 2]\n",
      " [1 8]\n",
      " [9 7]\n",
      " [8 4]\n",
      " [1 2]]\n"
     ]
    }
   ],
   "source": [
    "# Array Shape Manipulations - Return modified array, does not modify inplace\n",
    "a = np.random.randint(1,10,(3,4))\n",
    "print(a.shape)\n",
    "print(a.ravel())  # Returns the flattened array\n",
    "print(a.reshape(6,2))  # Returns reshaped array - does not modify inplace\n",
    "a.resize((2,6))  # Modifies shape inplace\n",
    "print(a)\n",
    "print(a.reshape(4,-1))  # The dimension specified as -1 is automatically calculated with the other dimension\n",
    "print(a.T)  # Returns transposed array\n",
    "a.resize((3,4))"
   ]
  },
  {
   "cell_type": "code",
   "execution_count": 147,
   "metadata": {},
   "outputs": [
    {
     "name": "stdout",
     "output_type": "stream",
     "text": [
      "[[9 2 4]\n",
      " [1 4 8]\n",
      " [4 9 1]]\n",
      "[[5 7 5]\n",
      " [8 7 3]\n",
      " [1 1 6]]\n",
      "[[9 2 4]\n",
      " [1 4 8]\n",
      " [4 9 1]\n",
      " [5 7 5]\n",
      " [8 7 3]\n",
      " [1 1 6]]\n",
      "[[9 2 4 5 7 5]\n",
      " [1 4 8 8 7 3]\n",
      " [4 9 1 1 1 6]]\n",
      "[[9 2 4]\n",
      " [1 4 8]\n",
      " [4 9 1]\n",
      " [5 7 5]\n",
      " [8 7 3]\n",
      " [1 1 6]]\n",
      "[[9 2 4 5 7 5]\n",
      " [1 4 8 8 7 3]\n",
      " [4 9 1 1 1 6]]\n",
      "[[3 5]\n",
      " [8 9]\n",
      " [2 7]]\n",
      "[3 8 2 5 9 7]\n"
     ]
    }
   ],
   "source": [
    "# Stacking together different arrays\n",
    "print(x)\n",
    "print(y)\n",
    "print(np.vstack((x,y)))   # Stacks arrays vertically\n",
    "print(np.hstack((x,y)))   # Stacks arrays horizontally\n",
    "\n",
    "# r_ and c_ are similar to vstack and hstack in their default behavior, but allow for an optional argument giving the \n",
    "# number of the axis along which to concatenate\n",
    "print(np.r_[x,y])    \n",
    "print(np.c_[x,y])\n",
    "\n",
    "# column_stack stacks 1D arrays as columns in a 2D array - different from hstack and vstack\n",
    "p = np.random.randint(1,10,3)\n",
    "q = np.random.randint(1,10,3)\n",
    "print(np.column_stack((p,q)))\n",
    "print(np.hstack((p,q)))"
   ]
  },
  {
   "cell_type": "code",
   "execution_count": 153,
   "metadata": {},
   "outputs": [
    {
     "name": "stdout",
     "output_type": "stream",
     "text": [
      "[[100   5   1   9   8   1]\n",
      " [  7   2   8   7   4   2]]\n",
      "[[100   5   1   9   8   1]\n",
      " [  7   2   8   7   4   2]]\n",
      "[[100   5]\n",
      " [  1   9]\n",
      " [  8   1]\n",
      " [  7   2]\n",
      " [  8   7]\n",
      " [  4   2]]\n",
      "[[100   5   1   9   8   1]\n",
      " [  7   2   8   7   4   2]]\n",
      "[[100   5   1   9   8   1]\n",
      " [  7   2   8   7   4   2]]\n",
      "[[100   5   1   9   8   1]\n",
      " [  7   2   8   7   4   2]]\n",
      "[[7 5 1 9 8 1]\n",
      " [7 2 8 7 4 2]]\n",
      "[[100   5   1   9   8   1]\n",
      " [  7   2   8   7   4   2]]\n"
     ]
    }
   ],
   "source": [
    "# Views and Copies\n",
    "print(a)\n",
    "t = a    # No copy - t is another name for a\n",
    "t.resize(2,6)\n",
    "print(a)   # Changes to t are reflected in a as well\n",
    "\n",
    "## Shallow copy - u and a share the data (or) u looks at the same data as a\n",
    "## Slicing a dataframe returns a view of it\n",
    "u = a.view()     \n",
    "u.resize(6,2)\n",
    "print(u)\n",
    "print(a)        # Shape changes to u not reflected in a\n",
    "u.resize(2,6)\n",
    "u[0,0] = 100\n",
    "print(u)\n",
    "print(a)      # Element level changes are reflected in a\n",
    "\n",
    "## Deep Copy - Completely Independent, changes in one does not affect the other\n",
    "v = a.copy()\n",
    "v[0,0] = 7\n",
    "print(v)\n",
    "print(a)"
   ]
  },
  {
   "cell_type": "code",
   "execution_count": 156,
   "metadata": {},
   "outputs": [
    {
     "name": "stdout",
     "output_type": "stream",
     "text": [
      "[[9 2 4]\n",
      " [1 4 8]\n",
      " [4 9 1]]\n",
      "[[5 7 5]\n",
      " [8 7 3]\n",
      " [1 1 6]]\n"
     ]
    },
    {
     "data": {
      "text/plain": [
       "array([[65, 81, 75],\n",
       "       [45, 43, 65],\n",
       "       [93, 92, 53]])"
      ]
     },
     "execution_count": 156,
     "metadata": {},
     "output_type": "execute_result"
    }
   ],
   "source": [
    "# Linear Algebra\n",
    "print(x)\n",
    "print(y)\n"
   ]
  },
  {
   "cell_type": "code",
   "execution_count": null,
   "metadata": {},
   "outputs": [],
   "source": []
  }
 ],
 "metadata": {
  "kernelspec": {
   "display_name": "Python 3",
   "language": "python",
   "name": "python3"
  },
  "language_info": {
   "codemirror_mode": {
    "name": "ipython",
    "version": 3
   },
   "file_extension": ".py",
   "mimetype": "text/x-python",
   "name": "python",
   "nbconvert_exporter": "python",
   "pygments_lexer": "ipython3",
   "version": "3.7.1"
  }
 },
 "nbformat": 4,
 "nbformat_minor": 2
}
